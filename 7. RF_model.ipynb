{
 "cells": [
  {
   "cell_type": "code",
   "execution_count": 20,
   "metadata": {},
   "outputs": [],
   "source": [
    "from pyspark.sql import functions as F\n",
    "from pyspark.sql import SparkSession\n",
    "from pyspark.sql.functions import *\n",
    "from pyspark.ml.feature import VectorAssembler, StringIndexer\n",
    "from pyspark.ml.classification import RandomForestClassifier\n",
    "from pyspark.ml import Pipeline\n",
    "from pyspark.ml.evaluation import MulticlassClassificationEvaluator\n",
    "from sklearn.metrics import classification_report, confusion_matrix, accuracy_score\n",
    "from pyspark.mllib.evaluation import MulticlassMetrics\n"
   ]
  },
  {
   "cell_type": "code",
   "execution_count": 2,
   "metadata": {},
   "outputs": [
    {
     "name": "stderr",
     "output_type": "stream",
     "text": [
      "Setting default log level to \"WARN\".\n",
      "To adjust logging level use sc.setLogLevel(newLevel). For SparkR, use setLogLevel(newLevel).\n",
      "23/08/17 11:41:18 WARN NativeCodeLoader: Unable to load native-hadoop library for your platform... using builtin-java classes where applicable\n"
     ]
    }
   ],
   "source": [
    "spark = (\n",
    " SparkSession.builder.appName(\"project 1 RF\")\n",
    " .config(\"spark.sql.repl.eagerEval.enabled\", True)\n",
    " .config(\"spark.executor.memory\",\"6G\")\n",
    " .config(\"spark.driver.memory\",\"4G\")\n",
    " .config(\"spark.sql.parquet.cacheMetadata\", \"true\")\n",
    " .config(\"spark.sql.session.timeZone\", \"Etc/UTC\")\n",
    " .config('spark.driver.maxResultSize', '2048m')\n",
    " .getOrCreate()\n",
    ")"
   ]
  },
  {
   "cell_type": "code",
   "execution_count": 3,
   "metadata": {},
   "outputs": [
    {
     "name": "stderr",
     "output_type": "stream",
     "text": [
      "                                                                                \r"
     ]
    }
   ],
   "source": [
    "data = spark.read.parquet('data/merged_sdf.parquet')"
   ]
  },
  {
   "cell_type": "code",
   "execution_count": 7,
   "metadata": {},
   "outputs": [
    {
     "data": {
      "text/plain": [
       "0.5631643629905457"
      ]
     },
     "execution_count": 7,
     "metadata": {},
     "output_type": "execute_result"
    }
   ],
   "source": [
    "data.where(F.col('tip_amount') >= 3).count() / data.count()"
   ]
  },
  {
   "cell_type": "code",
   "execution_count": 8,
   "metadata": {},
   "outputs": [],
   "source": [
    "column = ['PULocationID','DOLocationID', 'Airport', 'Congestion', 'Weekend', 'tip']"
   ]
  },
  {
   "cell_type": "code",
   "execution_count": 9,
   "metadata": {},
   "outputs": [],
   "source": [
    "def discretization(sdf):\n",
    "    sdf = sdf.withColumn('tip', (F.col('tip_amount') >= 3).cast('BOOLEAN'))\n",
    "    sdf = sdf.select(column)\n",
    "    return sdf.withColumn('tip_numeric', F.col('tip').cast('int')).select(['PULocationID','DOLocationID', 'Airport', 'Congestion', 'Weekend', 'tip_numeric'])"
   ]
  },
  {
   "cell_type": "code",
   "execution_count": 10,
   "metadata": {},
   "outputs": [],
   "source": [
    "data = discretization(data)"
   ]
  },
  {
   "cell_type": "code",
   "execution_count": 11,
   "metadata": {},
   "outputs": [
    {
     "data": {
      "text/plain": [
       "0.5631643629905457"
      ]
     },
     "execution_count": 11,
     "metadata": {},
     "output_type": "execute_result"
    }
   ],
   "source": [
    "data.where(F.col('tip_numeric') != 0).count() / data.count()"
   ]
  },
  {
   "cell_type": "code",
   "execution_count": 13,
   "metadata": {},
   "outputs": [],
   "source": [
    "# Assuming 'label' is the target column and 'features' are the feature columns\n",
    "assembler = VectorAssembler(inputCols=['PULocationID','DOLocationID', 'Airport', 'Congestion', 'Weekend'], outputCol=\"features\")"
   ]
  },
  {
   "cell_type": "code",
   "execution_count": 14,
   "metadata": {},
   "outputs": [
    {
     "name": "stderr",
     "output_type": "stream",
     "text": [
      "23/08/17 11:43:31 WARN MemoryStore: Not enough space to cache rdd_100_5 in memory! (computed 108.7 MiB so far)\n",
      "23/08/17 11:43:31 WARN BlockManager: Persisting block rdd_100_5 to disk instead.\n",
      "23/08/17 11:43:31 WARN MemoryStore: Not enough space to cache rdd_100_4 in memory! (computed 108.7 MiB so far)\n",
      "23/08/17 11:43:31 WARN BlockManager: Persisting block rdd_100_4 to disk instead.\n",
      "23/08/17 11:43:31 WARN MemoryStore: Not enough space to cache rdd_100_1 in memory! (computed 108.7 MiB so far)\n",
      "23/08/17 11:43:31 WARN BlockManager: Persisting block rdd_100_1 to disk instead.\n",
      "23/08/17 11:43:32 WARN MemoryStore: Not enough space to cache rdd_100_0 in memory! (computed 108.7 MiB so far)\n",
      "23/08/17 11:43:32 WARN BlockManager: Persisting block rdd_100_0 to disk instead.\n",
      "23/08/17 11:43:32 WARN MemoryStore: Not enough space to cache rdd_100_2 in memory! (computed 108.7 MiB so far)\n",
      "23/08/17 11:43:32 WARN BlockManager: Persisting block rdd_100_2 to disk instead.\n",
      "23/08/17 11:43:47 WARN MemoryStore: Not enough space to cache rdd_100_3 in memory! (computed 580.0 MiB so far)\n",
      "23/08/17 11:43:47 WARN BlockManager: Persisting block rdd_100_3 to disk instead.\n",
      "23/08/17 11:44:17 WARN MemoryStore: Not enough space to cache rdd_100_5 in memory! (computed 244.7 MiB so far)\n",
      "23/08/17 11:44:21 WARN MemoryStore: Not enough space to cache rdd_100_1 in memory! (computed 163.1 MiB so far)\n",
      "23/08/17 11:44:22 WARN MemoryStore: Not enough space to cache rdd_100_3 in memory! (computed 871.2 MiB so far)\n",
      "23/08/17 11:44:22 WARN MemoryStore: Not enough space to cache rdd_100_4 in memory! (computed 244.7 MiB so far)\n",
      "23/08/17 11:44:31 WARN MemoryStore: Not enough space to cache rdd_100_2 in memory! (computed 108.7 MiB so far)\n",
      "23/08/17 11:44:32 WARN MemoryStore: Not enough space to cache rdd_100_0 in memory! (computed 368.0 MiB so far)\n",
      "23/08/17 11:45:23 WARN MemoryStore: Not enough space to cache rdd_100_2 in memory! (computed 244.7 MiB so far)\n",
      "23/08/17 11:45:23 WARN MemoryStore: Not enough space to cache rdd_100_3 in memory! (computed 244.7 MiB so far)\n",
      "23/08/17 11:45:26 WARN MemoryStore: Not enough space to cache rdd_100_0 in memory! (computed 368.0 MiB so far)\n",
      "23/08/17 11:45:26 WARN MemoryStore: Not enough space to cache rdd_100_5 in memory! (computed 368.0 MiB so far)\n",
      "23/08/17 11:45:26 WARN MemoryStore: Not enough space to cache rdd_100_1 in memory! (computed 368.0 MiB so far)\n",
      "23/08/17 11:45:26 WARN MemoryStore: Not enough space to cache rdd_100_4 in memory! (computed 368.0 MiB so far)\n",
      "23/08/17 11:46:35 WARN MemoryStore: Not enough space to cache rdd_100_1 in memory! (computed 244.7 MiB so far)\n",
      "23/08/17 11:46:35 WARN MemoryStore: Not enough space to cache rdd_100_0 in memory! (computed 244.7 MiB so far)\n",
      "23/08/17 11:46:39 WARN MemoryStore: Not enough space to cache rdd_100_5 in memory! (computed 368.0 MiB so far)\n",
      "23/08/17 11:46:39 WARN MemoryStore: Not enough space to cache rdd_100_3 in memory! (computed 368.0 MiB so far)\n",
      "23/08/17 11:46:39 WARN MemoryStore: Not enough space to cache rdd_100_2 in memory! (computed 368.0 MiB so far)\n",
      "23/08/17 11:46:39 WARN MemoryStore: Not enough space to cache rdd_100_4 in memory! (computed 368.0 MiB so far)\n",
      "23/08/17 11:47:59 WARN MemoryStore: Not enough space to cache rdd_100_0 in memory! (computed 244.7 MiB so far)\n",
      "23/08/17 11:47:59 WARN MemoryStore: Not enough space to cache rdd_100_5 in memory! (computed 244.7 MiB so far)\n",
      "23/08/17 11:48:02 WARN MemoryStore: Not enough space to cache rdd_100_3 in memory! (computed 368.0 MiB so far)\n",
      "23/08/17 11:48:02 WARN MemoryStore: Not enough space to cache rdd_100_1 in memory! (computed 368.0 MiB so far)\n",
      "23/08/17 11:48:02 WARN MemoryStore: Not enough space to cache rdd_100_4 in memory! (computed 368.0 MiB so far)\n",
      "23/08/17 11:48:02 WARN MemoryStore: Not enough space to cache rdd_100_2 in memory! (computed 368.0 MiB so far)\n",
      "23/08/17 11:49:40 WARN MemoryStore: Not enough space to cache rdd_100_0 in memory! (computed 244.7 MiB so far)\n",
      "23/08/17 11:49:40 WARN MemoryStore: Not enough space to cache rdd_100_1 in memory! (computed 244.7 MiB so far)\n",
      "23/08/17 11:49:44 WARN MemoryStore: Not enough space to cache rdd_100_3 in memory! (computed 368.0 MiB so far)\n",
      "23/08/17 11:49:44 WARN MemoryStore: Not enough space to cache rdd_100_2 in memory! (computed 368.0 MiB so far)\n",
      "23/08/17 11:49:44 WARN MemoryStore: Not enough space to cache rdd_100_4 in memory! (computed 368.0 MiB so far)\n",
      "23/08/17 11:49:44 WARN MemoryStore: Not enough space to cache rdd_100_5 in memory! (computed 368.0 MiB so far)\n",
      "                                                                                \r"
     ]
    }
   ],
   "source": [
    "rf = RandomForestClassifier(featuresCol=\"features\", labelCol=\"tip_numeric\", numTrees=100, maxDepth=5)\n",
    "\n",
    "pipeline = Pipeline(stages=[assembler, rf])\n",
    "\n",
    "train_data, test_data = data.randomSplit([0.8, 0.2], seed=42)\n",
    "\n",
    "model = pipeline.fit(train_data)\n"
   ]
  },
  {
   "cell_type": "code",
   "execution_count": 15,
   "metadata": {},
   "outputs": [
    {
     "name": "stderr",
     "output_type": "stream",
     "text": [
      "[Stage 48:===================================================>      (8 + 1) / 9]\r"
     ]
    },
    {
     "name": "stdout",
     "output_type": "stream",
     "text": [
      "Accuracy: 0.5967512605147532\n"
     ]
    },
    {
     "name": "stderr",
     "output_type": "stream",
     "text": [
      "                                                                                \r"
     ]
    }
   ],
   "source": [
    "predictions = model.transform(test_data)\n",
    "\n",
    "evaluator = MulticlassClassificationEvaluator(labelCol=\"tip_numeric\", predictionCol=\"prediction\", metricName=\"accuracy\")\n",
    "accuracy = evaluator.evaluate(predictions)\n",
    "print(\"Accuracy:\", accuracy)\n"
   ]
  },
  {
   "cell_type": "code",
   "execution_count": 21,
   "metadata": {},
   "outputs": [
    {
     "name": "stderr",
     "output_type": "stream",
     "text": [
      "/Users/chengqian/Library/Python/3.9/lib/python/site-packages/pyspark/sql/context.py:157: FutureWarning: Deprecated in 3.0.0. Use SparkSession.builder.getOrCreate() instead.\n",
      "  warnings.warn(\n",
      "                                                                                \r"
     ]
    }
   ],
   "source": [
    "prediction_and_label = predictions.select(\"prediction\", \"tip_numeric\").rdd.map(lambda row: (float(row.prediction), float(row.tip_numeric)))\n",
    "\n",
    "# Instantiate the MulticlassMetrics class\n",
    "metrics = MulticlassMetrics(prediction_and_label)\n",
    "\n",
    "# Compute the confusion matrix\n",
    "confusion_matrix = metrics.confusionMatrix()\n"
   ]
  },
  {
   "cell_type": "code",
   "execution_count": 22,
   "metadata": {},
   "outputs": [
    {
     "name": "stdout",
     "output_type": "stream",
     "text": [
      "DenseMatrix([[ 226574., 1095011.],\n",
      "             [ 125358., 1579400.]])\n"
     ]
    }
   ],
   "source": [
    "print(confusion_matrix)"
   ]
  },
  {
   "cell_type": "code",
   "execution_count": null,
   "metadata": {},
   "outputs": [],
   "source": []
  }
 ],
 "metadata": {
  "kernelspec": {
   "display_name": "Python 3",
   "language": "python",
   "name": "python3"
  },
  "language_info": {
   "codemirror_mode": {
    "name": "ipython",
    "version": 3
   },
   "file_extension": ".py",
   "mimetype": "text/x-python",
   "name": "python",
   "nbconvert_exporter": "python",
   "pygments_lexer": "ipython3",
   "version": "3.9.6"
  },
  "orig_nbformat": 4
 },
 "nbformat": 4,
 "nbformat_minor": 2
}
