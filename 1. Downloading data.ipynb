{
 "cells": [
  {
   "cell_type": "code",
   "execution_count": 2,
   "metadata": {},
   "outputs": [],
   "source": [
    "from urllib.request import urlretrieve\n",
    "from pyspark.sql import SparkSession\n",
    "import pandas as pd\n",
    "from pyspark.sql import functions as F\n",
    "from pyspark.sql import SparkSession\n",
    "from pyspark.sql.functions import *"
   ]
  },
  {
   "cell_type": "code",
   "execution_count": 6,
   "metadata": {},
   "outputs": [
    {
     "name": "stderr",
     "output_type": "stream",
     "text": [
      "23/08/17 21:29:24 WARN Utils: Your hostname, zhangjiesanhao.local resolves to a loopback address: 127.0.0.1; using 192.168.0.112 instead (on interface en0)\n",
      "23/08/17 21:29:24 WARN Utils: Set SPARK_LOCAL_IP if you need to bind to another address\n",
      "Setting default log level to \"WARN\".\n",
      "To adjust logging level use sc.setLogLevel(newLevel). For SparkR, use setLogLevel(newLevel).\n",
      "23/08/17 21:29:25 WARN NativeCodeLoader: Unable to load native-hadoop library for your platform... using builtin-java classes where applicable\n",
      "23/08/17 21:29:26 WARN Utils: Service 'SparkUI' could not bind on port 4040. Attempting port 4041.\n"
     ]
    }
   ],
   "source": [
    "spark = (\n",
    " SparkSession.builder.appName(\"project 1\")\n",
    " .config(\"spark.sql.repl.eagerEval.enabled\", True)\n",
    " .config(\"spark.executor.memory\",\"4G\")\n",
    " .config(\"spark.driver.memory\",\"2G\")\n",
    " .config(\"spark.sql.parquet.cacheMetadata\", \"true\")\n",
    " .config(\"spark.sql.session.timeZone\", \"Etc/UTC\")\n",
    " .config('spark.driver.maxResultSize', '2048m')\n",
    " .getOrCreate()\n",
    ")"
   ]
  },
  {
   "attachments": {},
   "cell_type": "markdown",
   "metadata": {},
   "source": [
    "# Downloading data in Jan 2023 for comparison #"
   ]
  },
  {
   "cell_type": "code",
   "execution_count": 8,
   "metadata": {},
   "outputs": [
    {
     "data": {
      "text/plain": [
       "('data/tlc_data/fhvhv_tripdata_2023-01.parquet',\n",
       " <http.client.HTTPMessage at 0x112456ac0>)"
      ]
     },
     "execution_count": 8,
     "metadata": {},
     "output_type": "execute_result"
    }
   ],
   "source": [
    "output_dir = \"data/tlc_data/2023-01.parquet\"\n",
    "urlretrieve(\"https://d37ci6vzurychx.cloudfront.net/trip-data/yellow_tripdata_2023-01.parquet\", output_dir)\n",
    "\n",
    "output_dir = \"data/tlc_data/green_tripdata_2023-01.parquet\"\n",
    "urlretrieve(\"https://d37ci6vzurychx.cloudfront.net/trip-data/green_tripdata_2023-01.parquet\", output_dir)\n",
    "\n",
    "output_dir = \"data/tlc_data/fhv_tripdata_2023-01.parquet\"\n",
    "urlretrieve(\"https://d37ci6vzurychx.cloudfront.net/trip-data/fhv_tripdata_2023-01.parquet\", output_dir)\n",
    "\n",
    "output_dir = \"data/tlc_data/fhvhv_tripdata_2023-01.parquet\"\n",
    "urlretrieve(\"https://d37ci6vzurychx.cloudfront.net/trip-data/fhvhv_tripdata_2023-01.parquet\", output_dir)"
   ]
  },
  {
   "attachments": {},
   "cell_type": "markdown",
   "metadata": {},
   "source": [
    "# Downloading other six months data #"
   ]
  },
  {
   "cell_type": "code",
   "execution_count": 9,
   "metadata": {},
   "outputs": [
    {
     "data": {
      "text/plain": [
       "('data/tlc_data/2023-05.parquet', <http.client.HTTPMessage at 0x12757a640>)"
      ]
     },
     "execution_count": 9,
     "metadata": {},
     "output_type": "execute_result"
    }
   ],
   "source": [
    "output_dir = \"data/tlc_data/2022-12.parquet\"\n",
    "urlretrieve(\"https://d37ci6vzurychx.cloudfront.net/trip-data/yellow_tripdata_2022-12.parquet\", output_dir)\n",
    "\n",
    "output_dir = \"data/tlc_data/2023-02.parquet\"\n",
    "urlretrieve(\"https://d37ci6vzurychx.cloudfront.net/trip-data/yellow_tripdata_2023-02.parquet\", output_dir)\n",
    "\n",
    "output_dir = \"data/tlc_data/2023-03.parquet\"\n",
    "urlretrieve(\"https://d37ci6vzurychx.cloudfront.net/trip-data/yellow_tripdata_2023-03.parquet\", output_dir)\n",
    "\n",
    "output_dir = \"data/tlc_data/2023-04.parquet\"\n",
    "urlretrieve(\"https://d37ci6vzurychx.cloudfront.net/trip-data/yellow_tripdata_2023-04.parquet\", output_dir)\n",
    "\n",
    "output_dir = \"data/tlc_data/2023-05.parquet\"\n",
    "urlretrieve(\"https://d37ci6vzurychx.cloudfront.net/trip-data/yellow_tripdata_2023-05.parquet\", output_dir)"
   ]
  },
  {
   "attachments": {},
   "cell_type": "markdown",
   "metadata": {},
   "source": [
    "# Transforming data type for each file #"
   ]
  },
  {
   "cell_type": "code",
   "execution_count": 10,
   "metadata": {},
   "outputs": [
    {
     "name": "stderr",
     "output_type": "stream",
     "text": [
      "                                                                                \r"
     ]
    }
   ],
   "source": [
    "sdf_feb = spark.read.parquet(\"data/tlc_data/2023-02.parquet\")\n",
    "\n",
    "consistent_col_casing = [F.col(col_name).alias(col_name.lower()) for col_name in sdf_feb.columns]\n",
    "sdf_feb = sdf_feb.select(*consistent_col_casing)\n",
    "sdf_schema = sdf_feb.schema\n"
   ]
  },
  {
   "cell_type": "code",
   "execution_count": 12,
   "metadata": {},
   "outputs": [
    {
     "name": "stderr",
     "output_type": "stream",
     "text": [
      "                                                                                \r"
     ]
    }
   ],
   "source": [
    "sdf_malformed = spark.read.parquet('data/tlc_data/2022-12.parquet')\n",
    "\n",
    "sdf_malformed = sdf_malformed \\\n",
    "    .select([F.col(c).cast(sdf_schema[i].dataType) for i, c in enumerate(sdf_malformed.columns)])\n",
    "\n",
    "sdf_malformed \\\n",
    "    .coalesce(1) \\\n",
    "    .write \\\n",
    "    .mode('overwrite') \\\n",
    "    .parquet('data/tlc_data/raw/2022-12')"
   ]
  },
  {
   "cell_type": "code",
   "execution_count": 13,
   "metadata": {},
   "outputs": [
    {
     "name": "stderr",
     "output_type": "stream",
     "text": [
      "                                                                                \r"
     ]
    }
   ],
   "source": [
    "sdf_malformed = spark.read.parquet('data/tlc_data/2023-01.parquet')\n",
    "\n",
    "sdf_malformed = sdf_malformed \\\n",
    "    .select([F.col(c).cast(sdf_schema[i].dataType) for i, c in enumerate(sdf_malformed.columns)])\n",
    "\n",
    "sdf_malformed \\\n",
    "    .coalesce(1) \\\n",
    "    .write \\\n",
    "    .mode('overwrite') \\\n",
    "    .parquet('data/tlc_data/raw/2023-01')"
   ]
  },
  {
   "cell_type": "code",
   "execution_count": 14,
   "metadata": {},
   "outputs": [
    {
     "name": "stderr",
     "output_type": "stream",
     "text": [
      "                                                                                \r"
     ]
    }
   ],
   "source": [
    "sdf_malformed = spark.read.parquet('data/tlc_data/2023-02.parquet')\n",
    "\n",
    "sdf_malformed = sdf_malformed \\\n",
    "    .select([F.col(c).cast(sdf_schema[i].dataType) for i, c in enumerate(sdf_malformed.columns)])\n",
    "\n",
    "sdf_malformed \\\n",
    "    .coalesce(1) \\\n",
    "    .write \\\n",
    "    .mode('overwrite') \\\n",
    "    .parquet('data/tlc_data/raw/2023-02')"
   ]
  },
  {
   "cell_type": "code",
   "execution_count": 15,
   "metadata": {},
   "outputs": [
    {
     "name": "stderr",
     "output_type": "stream",
     "text": [
      "                                                                                \r"
     ]
    }
   ],
   "source": [
    "sdf_malformed = spark.read.parquet('data/tlc_data/2023-03.parquet')\n",
    "\n",
    "sdf_malformed = sdf_malformed \\\n",
    "    .select([F.col(c).cast(sdf_schema[i].dataType) for i, c in enumerate(sdf_malformed.columns)])\n",
    "\n",
    "sdf_malformed \\\n",
    "    .coalesce(1) \\\n",
    "    .write \\\n",
    "    .mode('overwrite') \\\n",
    "    .parquet('data/tlc_data/raw/2023-03')"
   ]
  },
  {
   "cell_type": "code",
   "execution_count": 16,
   "metadata": {},
   "outputs": [
    {
     "name": "stderr",
     "output_type": "stream",
     "text": [
      "                                                                                \r"
     ]
    }
   ],
   "source": [
    "sdf_malformed = spark.read.parquet('data/tlc_data/2023-04.parquet')\n",
    "\n",
    "sdf_malformed = sdf_malformed \\\n",
    "    .select([F.col(c).cast(sdf_schema[i].dataType) for i, c in enumerate(sdf_malformed.columns)])\n",
    "\n",
    "sdf_malformed \\\n",
    "    .coalesce(1) \\\n",
    "    .write \\\n",
    "    .mode('overwrite') \\\n",
    "    .parquet('data/tlc_data/raw/2023-04')"
   ]
  },
  {
   "cell_type": "code",
   "execution_count": 17,
   "metadata": {},
   "outputs": [
    {
     "name": "stderr",
     "output_type": "stream",
     "text": [
      "                                                                                \r"
     ]
    }
   ],
   "source": [
    "sdf_malformed = spark.read.parquet('data/tlc_data/2023-05.parquet')\n",
    "\n",
    "sdf_malformed = sdf_malformed \\\n",
    "    .select([F.col(c).cast(sdf_schema[i].dataType) for i, c in enumerate(sdf_malformed.columns)])\n",
    "\n",
    "sdf_malformed \\\n",
    "    .coalesce(1) \\\n",
    "    .write \\\n",
    "    .mode('overwrite') \\\n",
    "    .parquet('data/tlc_data/raw/2023-05')"
   ]
  }
 ],
 "metadata": {
  "kernelspec": {
   "display_name": "Python 3",
   "language": "python",
   "name": "python3"
  },
  "language_info": {
   "codemirror_mode": {
    "name": "ipython",
    "version": 3
   },
   "file_extension": ".py",
   "mimetype": "text/x-python",
   "name": "python",
   "nbconvert_exporter": "python",
   "pygments_lexer": "ipython3",
   "version": "3.9.6"
  },
  "orig_nbformat": 4
 },
 "nbformat": 4,
 "nbformat_minor": 2
}
